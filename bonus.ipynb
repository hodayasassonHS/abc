{
 "cells": [
  {
   "cell_type": "code",
   "execution_count": 33,
   "metadata": {},
   "outputs": [],
   "source": [
    "# \n",
    "from PIL import Image, ImageOps\n",
    "import numpy as np\n",
    "\n",
    "def rotate_image(image, angle):\n",
    "    \"\"\"Rotate an image by the given angle.\"\"\"\n",
    "    rotated_image = image.rotate(angle, expand=True)\n",
    "    return rotated_image\n",
    "\n",
    "def snap_pixels(image):\n",
    "    \"\"\"Snap the pixel coordinates in an image to integer values.\"\"\"\n",
    "    # Get the pixel data as a numpy array\n",
    "    pixel_array = np.array(image)\n",
    " \n",
    "    # Round the pixel coordinates to the nearest integer\n",
    "    pixel_array = np.round(pixel_array)\n",
    "\n",
    "    # Convert the pixel array back to an image\n",
    "    snapped_image = Image.fromarray(pixel_array.astype(np.uint8))\n",
    "\n",
    "    # Convert the snapped image to mode \"L\"\n",
    "    snapped_image = snapped_image.convert(\"L\")\n",
    "\n",
    "    # Invert the snapped image to get the correct orientation\n",
    "    return ImageOps.invert(snapped_image)\n",
    "\n"
   ]
  },
  {
   "cell_type": "code",
   "execution_count": 34,
   "metadata": {},
   "outputs": [
    {
     "data": {
      "image/png": "[encoded data removed]",
      "text/plain": [
       "<PIL.PngImagePlugin.PngImageFile image mode=RGBA size=176x186 at 0x1C3325BA040>"
      ]
     },
     "execution_count": 34,
     "metadata": {},
     "output_type": "execute_result"
    }
   ],
   "source": [
    "# Load the image\n",
    "image = Image.open(\"./Screenshot 2023-02-23 224706.jpg\")\n",
    "image"
   ]
  },
  {
   "cell_type": "code",
   "execution_count": 36,
   "metadata": {},
   "outputs": [
    {
     "data": {
      "image/png": "[encoded data removed]",
      "text/plain": [
       "<PIL.Image.Image image mode=L size=256x256 at 0x1C33000C280>"
      ]
     },
     "execution_count": 36,
     "metadata": {},
     "output_type": "execute_result"
    }
   ],
   "source": [
    "\n",
    "# Rotate the image and convert it to mode \"L\"\n",
    "rotated_image = image.rotate(45, expand=True).convert(\"L\")\n",
    "\n",
    "rotated_image"
   ]
  }
 ],
 "metadata": {
  "kernelspec": {
   "display_name": "Python 3 (ipykernel)",
   "language": "python",
   "name": "python3"
  },
  "language_info": {
   "codemirror_mode": {
    "name": "ipython",
    "version": 3
   },
   "file_extension": ".py",
   "mimetype": "text/x-python",
   "name": "python",
   "nbconvert_exporter": "python",
   "pygments_lexer": "ipython3",
   "version": "3.11.3"
  }
 },
 "nbformat": 4,
 "nbformat_minor": 4
}
